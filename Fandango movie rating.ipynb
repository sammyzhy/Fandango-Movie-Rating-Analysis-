{
 "cells": [
  {
   "cell_type": "markdown",
   "metadata": {},
   "source": [
    "## Investigating Fandango Movie Ratings\n",
    "\n",
    "In October 2015, a data journalist named Walt Hickey analyzed movie ratings data and found strong evidence to suggest that Fandango's rating system was biased and dishonest ([Fandango](https://www.fandango.com/) is an online movie ratings aggregator). He published his analysis in an [article](https://fivethirtyeight.com/features/fandango-movies-ratings/) — a great piece of data journalism that's totally worth reading.\n",
    "\n",
    "Fandango displays a 5-star rating system on their website, where the minimum rating is 0 stars and the maximum is 5 stars.\n",
    "\n",
    "Hickey found that there's a significant discrepancy between the number of stars displayed to users and the actual rating, which he was able to find in the HTML of the page. He was able to find that:\n",
    "\n",
    "   + The actual rating was almost always rounded up to the nearest half-star. For instance, a 4.1 movie would be rounded off to 4.5 stars, not to 4 stars, as you may expect.\n",
    "   + In the case of 8% of the ratings analyzed, the rounding up was done to the nearest whole star. For instance, a 4.5 rating would be rounded off to 5 stars.\n",
    "   + For one movie rating, the rounding off was completely bizarre: from a rating of 4 in the HTML of the page to a displayed rating of 5 stars.\n",
    "   \n",
    "![](https://s3.amazonaws.com/dq-content/288/s1gp_actual_vs_displayed.png)\n",
    "                          Source: [FiveThirtyEight](https://fivethirtyeight.com/features/fandango-movies-ratings/)\n",
    " \n",
    "The two distributions above are displayed using a simple line plot, which is also a valid way to show the shape of a distribution. The variable being examined is movie rating, and for each unique rating we can see its relative frequency (percentage) on the y-axis of the graph. When an analysis report is intended for large audiences, relative frequencies (especially percentages) are preferred over absolute frequencies.\n",
    "\n",
    "Both distributions above are strongly left skewed, suggesting that movie ratings on Fandango are generally high or very high. We can see there's no rating under 2 stars in the sample Hickey analyzed. The distribution of displayed ratings is clearly shifted to the right compared to the actual rating distribution, suggesting strongly that Fandango inflates the ratings under the hood.\n",
    "\n",
    "Fandango's officials replied that the biased rounding off was caused by a bug in their system rather than being intentional, and they promised to fix the bug as soon as possible. Presumably, this has already happened, although we can't tell for sure since the actual rating value doesn't seem to be displayed anymore in the pages' HTML.\n",
    "\n",
    "In this project, we'll analyze more recent movie ratings data to determine whether there has been any change in Fandango's rating system after Hickey's analysis."
   ]
  },
  {
   "cell_type": "markdown",
   "metadata": {},
   "source": [
    "## Understanding the Data\n",
    "\n",
    "One of the best ways to figure out whether there has been any change in Fandango's rating system after Hickey's analysis is to compare the system's characteristics previous and after the analysis. Fortunately, we have ready-made data for both these periods of time:\n",
    "\n",
    "   + Walt Hickey made the data he analyzed publicly available on [GitHub](https://github.com/fivethirtyeight/data/tree/master/fandango). We'll use the data he collected to analyze the characteristics of Fandango's rating system previous to his analysis.\n",
    "\n",
    "   + One of Dataquest's team members collected movie ratings data for movies released in 2016 and 2017. The data is publicly available on [GitHub](https://github.com/mircealex/Movie_ratings_2016_17) and we'll use it to analyze the rating system's characteristics after Hickey's analysis."
   ]
  },
  {
   "cell_type": "code",
   "execution_count": 1,
   "metadata": {
    "collapsed": false
   },
   "outputs": [
    {
     "name": "stdout",
     "output_type": "stream",
     "text": [
      "                             FILM  RottenTomatoes  RottenTomatoes_User  \\\n",
      "0  Avengers: Age of Ultron (2015)              74                   86   \n",
      "1               Cinderella (2015)              85                   80   \n",
      "2                  Ant-Man (2015)              80                   90   \n",
      "3          Do You Believe? (2015)              18                   84   \n",
      "4   Hot Tub Time Machine 2 (2015)              14                   28   \n",
      "\n",
      "   Metacritic  Metacritic_User  IMDB  Fandango_Stars  Fandango_Ratingvalue  \\\n",
      "0          66              7.1   7.8             5.0                   4.5   \n",
      "1          67              7.5   7.1             5.0                   4.5   \n",
      "2          64              8.1   7.8             5.0                   4.5   \n",
      "3          22              4.7   5.4             5.0                   4.5   \n",
      "4          29              3.4   5.1             3.5                   3.0   \n",
      "\n",
      "   RT_norm  RT_user_norm         ...           IMDB_norm  RT_norm_round  \\\n",
      "0     3.70           4.3         ...                3.90            3.5   \n",
      "1     4.25           4.0         ...                3.55            4.5   \n",
      "2     4.00           4.5         ...                3.90            4.0   \n",
      "3     0.90           4.2         ...                2.70            1.0   \n",
      "4     0.70           1.4         ...                2.55            0.5   \n",
      "\n",
      "   RT_user_norm_round  Metacritic_norm_round  Metacritic_user_norm_round  \\\n",
      "0                 4.5                    3.5                         3.5   \n",
      "1                 4.0                    3.5                         4.0   \n",
      "2                 4.5                    3.0                         4.0   \n",
      "3                 4.0                    1.0                         2.5   \n",
      "4                 1.5                    1.5                         1.5   \n",
      "\n",
      "   IMDB_norm_round  Metacritic_user_vote_count  IMDB_user_vote_count  \\\n",
      "0              4.0                        1330                271107   \n",
      "1              3.5                         249                 65709   \n",
      "2              4.0                         627                103660   \n",
      "3              2.5                          31                  3136   \n",
      "4              2.5                          88                 19560   \n",
      "\n",
      "   Fandango_votes  Fandango_Difference  \n",
      "0           14846                  0.5  \n",
      "1           12640                  0.5  \n",
      "2           12055                  0.5  \n",
      "3            1793                  0.5  \n",
      "4            1021                  0.5  \n",
      "\n",
      "[5 rows x 22 columns]\n",
      "                     movie  year  metascore  imdb  tmeter  audience  fandango  \\\n",
      "0      10 Cloverfield Lane  2016         76   7.2      90        79       3.5   \n",
      "1                 13 Hours  2016         48   7.3      50        83       4.5   \n",
      "2      A Cure for Wellness  2016         47   6.6      40        47       3.0   \n",
      "3          A Dog's Purpose  2017         43   5.2      33        76       4.5   \n",
      "4  A Hologram for the King  2016         58   6.1      70        57       3.0   \n",
      "\n",
      "   n_metascore  n_imdb  n_tmeter  n_audience  nr_metascore  nr_imdb  \\\n",
      "0         3.80    3.60      4.50        3.95           4.0      3.5   \n",
      "1         2.40    3.65      2.50        4.15           2.5      3.5   \n",
      "2         2.35    3.30      2.00        2.35           2.5      3.5   \n",
      "3         2.15    2.60      1.65        3.80           2.0      2.5   \n",
      "4         2.90    3.05      3.50        2.85           3.0      3.0   \n",
      "\n",
      "   nr_tmeter  nr_audience  \n",
      "0        4.5          4.0  \n",
      "1        2.5          4.0  \n",
      "2        2.0          2.5  \n",
      "3        1.5          4.0  \n",
      "4        3.5          3.0  \n"
     ]
    }
   ],
   "source": [
    "#Read in and explore briefly the two data sets(fandango_score_comparison.csv and movie_ratings_16_17.csv).\n",
    "import pandas as pd\n",
    "score_comp = pd.read_csv(\"fandango_score_comparison.csv\")\n",
    "movie_rating_16_17 = pd.read_csv(\"movie_ratings_16_17.csv\")\n",
    "print(score_comp.head())\n",
    "print(movie_rating_16_17.head())"
   ]
  },
  {
   "cell_type": "code",
   "execution_count": 2,
   "metadata": {
    "collapsed": false
   },
   "outputs": [
    {
     "name": "stdout",
     "output_type": "stream",
     "text": [
      "                             FILM  Fandango_Stars  Fandango_Ratingvalue  \\\n",
      "0  Avengers: Age of Ultron (2015)             5.0                   4.5   \n",
      "1               Cinderella (2015)             5.0                   4.5   \n",
      "2                  Ant-Man (2015)             5.0                   4.5   \n",
      "3          Do You Believe? (2015)             5.0                   4.5   \n",
      "4   Hot Tub Time Machine 2 (2015)             3.5                   3.0   \n",
      "\n",
      "   Fandango_votes  Fandango_Difference  \n",
      "0           14846                  0.5  \n",
      "1           12640                  0.5  \n",
      "2           12055                  0.5  \n",
      "3            1793                  0.5  \n",
      "4            1021                  0.5  \n",
      "                     movie  year  fandango\n",
      "0      10 Cloverfield Lane  2016       3.5\n",
      "1                 13 Hours  2016       4.5\n",
      "2      A Cure for Wellness  2016       3.0\n",
      "3          A Dog's Purpose  2017       4.5\n",
      "4  A Hologram for the King  2016       3.0\n"
     ]
    }
   ],
   "source": [
    "#Isolate the columns offering information about Fandango's ratings for later use.\n",
    "before = score_comp[['FILM', 'Fandango_Stars', 'Fandango_Ratingvalue', 'Fandango_votes', 'Fandango_Difference']].copy()\n",
    "after = movie_rating_16_17[['movie', 'year', 'fandango']].copy()\n",
    "print(before.head())\n",
    "print(after.head())"
   ]
  },
  {
   "cell_type": "markdown",
   "metadata": {},
   "source": [
    "Our goal is to determine whether there has been any change in Fandango's rating system after Hickey's analysis. As for statistics, the population of interest for our goal is all the movies on Fandango website, regardless of releasing time. \n",
    "\n",
    "Because we want to find out whether the parameters of the population changed after Hickey's analysis, we are interested in sampling the population at two different periods in time (before and after Hickey's analysis) so that we can compare these two states.\n",
    "\n",
    "In Hickey's analysis, according to [README.md](https://github.com/fivethirtyeight/data/blob/master/fandango/README.md) file of the repository, he included every film that has a Rotten Tomatoes rating, a RT User rating, a Metacritic score, a Metacritic User score, and IMDb score, and at least 30 fan reviews on Fandango before Aug 24, 2015. \n",
    "\n",
    "Based on the [README.md](https://github.com/mircealex/Movie_ratings_2016_17/blob/master/README.md) file of the repository, the data for later movie ratings contained movie ratings data for 214 of the most popular movies (with a significant number of votes) released in 2016 and 2017 till Mar 22, 2017. \n",
    "\n",
    "So the sampling for both data sets are not random. It is questionable whether these two samples are representative for the population we are trying to describe. It seems more likely that it isn't, mostly because this sample is subject to temporal trends — e.g. movies in 2015 or 2016 might have been outstandingly good or bad compared to other years."
   ]
  },
  {
   "cell_type": "markdown",
   "metadata": {},
   "source": [
    "## Changing the Goal of Our Analysis\n",
    "\n",
    "Since we concluded that the resulting samples are very unlikely to be representative of the population we're interested in describing. At this point, we have at least two alternatives: either we collect new data, either we change the goal of our analysis by placing some limitations on it.\n",
    "\n",
    "Tweaking our goal seems a much faster choice compared to collecting new data. Also, it's quasi-impossible to collect a new sample previous to Hickey's analysis at this moment in time, since time couldn't go backwards.\n",
    "\n",
    "We can change our goal to determine whether there has been any changes in Fandango's rating for popular movies in 2015 and 2016. This new goal should also be a fairly good proxy for our initial goal."
   ]
  },
  {
   "cell_type": "markdown",
   "metadata": {},
   "source": [
    "## Isolating the Samples We Need\n",
    "\n",
    "With the new goal, we now have two populations that we want to describe and compare with each other:\n",
    "\n",
    "   + All Fandango's ratings for popular movies released in 2015.\n",
    "   + All Fandango's ratings for popular movies released in 2016.\n",
    "\n",
    "The term \"popular\" is vague and we need to define it with precision before continuing. We'll use Hickey's benchmark of 30 fan ratings and consider a movie as \"popular\" only if it has 30 fan ratings or more on Fandango's website.\n",
    "\n",
    "Let's check both of the data sets to confirm their representativity of the population. Notice that the data set collected after Hickey's analysis doesn't provide information about the number of fan ratings. One quick way to check whether this sample contains enough popular movies as to be representative, is to sample 10 movies randomly from the data set, and check the number of ratings on Fandango's website manually."
   ]
  },
  {
   "cell_type": "code",
   "execution_count": 3,
   "metadata": {
    "collapsed": false
   },
   "outputs": [
    {
     "name": "stdout",
     "output_type": "stream",
     "text": [
      "(0, 5)\n"
     ]
    }
   ],
   "source": [
    "print(before[before['Fandango_votes']<30].shape)"
   ]
  },
  {
   "cell_type": "markdown",
   "metadata": {},
   "source": [
    "As expected, all of the movies collected before Hickey's analysis had at least 30 fan ratings. Next, we will check the 'after' data set."
   ]
  },
  {
   "cell_type": "code",
   "execution_count": 4,
   "metadata": {
    "collapsed": false
   },
   "outputs": [
    {
     "data": {
      "text/html": [
       "<div>\n",
       "<style scoped>\n",
       "    .dataframe tbody tr th:only-of-type {\n",
       "        vertical-align: middle;\n",
       "    }\n",
       "\n",
       "    .dataframe tbody tr th {\n",
       "        vertical-align: top;\n",
       "    }\n",
       "\n",
       "    .dataframe thead th {\n",
       "        text-align: right;\n",
       "    }\n",
       "</style>\n",
       "<table border=\"1\" class=\"dataframe\">\n",
       "  <thead>\n",
       "    <tr style=\"text-align: right;\">\n",
       "      <th></th>\n",
       "      <th>movie</th>\n",
       "      <th>year</th>\n",
       "      <th>fandango</th>\n",
       "    </tr>\n",
       "  </thead>\n",
       "  <tbody>\n",
       "    <tr>\n",
       "      <th>108</th>\n",
       "      <td>Mechanic: Resurrection</td>\n",
       "      <td>2016</td>\n",
       "      <td>4.0</td>\n",
       "    </tr>\n",
       "    <tr>\n",
       "      <th>206</th>\n",
       "      <td>Warcraft</td>\n",
       "      <td>2016</td>\n",
       "      <td>4.0</td>\n",
       "    </tr>\n",
       "    <tr>\n",
       "      <th>106</th>\n",
       "      <td>Max Steel</td>\n",
       "      <td>2016</td>\n",
       "      <td>3.5</td>\n",
       "    </tr>\n",
       "    <tr>\n",
       "      <th>107</th>\n",
       "      <td>Me Before You</td>\n",
       "      <td>2016</td>\n",
       "      <td>4.5</td>\n",
       "    </tr>\n",
       "    <tr>\n",
       "      <th>51</th>\n",
       "      <td>Fantastic Beasts and Where to Find Them</td>\n",
       "      <td>2016</td>\n",
       "      <td>4.5</td>\n",
       "    </tr>\n",
       "    <tr>\n",
       "      <th>33</th>\n",
       "      <td>Cell</td>\n",
       "      <td>2016</td>\n",
       "      <td>3.0</td>\n",
       "    </tr>\n",
       "    <tr>\n",
       "      <th>59</th>\n",
       "      <td>Genius</td>\n",
       "      <td>2016</td>\n",
       "      <td>3.5</td>\n",
       "    </tr>\n",
       "    <tr>\n",
       "      <th>152</th>\n",
       "      <td>Sully</td>\n",
       "      <td>2016</td>\n",
       "      <td>4.5</td>\n",
       "    </tr>\n",
       "    <tr>\n",
       "      <th>4</th>\n",
       "      <td>A Hologram for the King</td>\n",
       "      <td>2016</td>\n",
       "      <td>3.0</td>\n",
       "    </tr>\n",
       "    <tr>\n",
       "      <th>31</th>\n",
       "      <td>Captain America: Civil War</td>\n",
       "      <td>2016</td>\n",
       "      <td>4.5</td>\n",
       "    </tr>\n",
       "  </tbody>\n",
       "</table>\n",
       "</div>"
      ],
      "text/plain": [
       "                                       movie  year  fandango\n",
       "108                   Mechanic: Resurrection  2016       4.0\n",
       "206                                 Warcraft  2016       4.0\n",
       "106                                Max Steel  2016       3.5\n",
       "107                            Me Before You  2016       4.5\n",
       "51   Fantastic Beasts and Where to Find Them  2016       4.5\n",
       "33                                      Cell  2016       3.0\n",
       "59                                    Genius  2016       3.5\n",
       "152                                    Sully  2016       4.5\n",
       "4                    A Hologram for the King  2016       3.0\n",
       "31                Captain America: Civil War  2016       4.5"
      ]
     },
     "execution_count": 4,
     "metadata": {},
     "output_type": "execute_result"
    }
   ],
   "source": [
    "after.sample(10, random_state = 1)"
   ]
  },
  {
   "cell_type": "markdown",
   "metadata": {},
   "source": [
    "As Oct 21, 2019 the ratings for the above movies are as follows:\n",
    "\n",
    "|     |                  Movie                  | Number of Ratings |\n",
    "|-----|:---------------------------------------:|:-----------------:|\n",
    "| 108 |          Mechanic: Resurrection         |       25574       |\n",
    "| 206 |                 Warcraft                |       63257       |\n",
    "| 106 |                Max Steel                |        6814       |\n",
    "| 107 |              Me Before You              |       30499       |\n",
    "| 51  | Fantastic Beasts and Where to Find Them |       87510       |\n",
    "| 33  |                   Cell                  |        3780       |\n",
    "| 59  |                  Genius                 |        2872       |\n",
    "| 152 |                  Sully                  |       48318       |\n",
    "| 4   |         A Hologram for the King         |       10189       |\n",
    "| 31  |        Captain America: Civil War       |       179131      |\n",
    "\n",
    "All of the 10 movies we randomly selected from the data set have more than 30 ratings. So the movies included in the 'after' data are popular movies."
   ]
  },
  {
   "cell_type": "code",
   "execution_count": 5,
   "metadata": {
    "collapsed": false,
    "scrolled": true
   },
   "outputs": [
    {
     "name": "stdout",
     "output_type": "stream",
     "text": [
      "2015    129\n",
      "2014     17\n",
      "Name: Year, dtype: int64\n",
      "2016    191\n",
      "2017     23\n",
      "Name: year, dtype: int64\n"
     ]
    }
   ],
   "source": [
    "before['Year'] = before['FILM'].str[-5:-1]\n",
    "print(before['Year'].value_counts())\n",
    "print(after['year'].value_counts())"
   ]
  },
  {
   "cell_type": "markdown",
   "metadata": {},
   "source": [
    "Some movies were not released in 2015 or 2016. We need to isolate only the sample points that belong to our populations of interest."
   ]
  },
  {
   "cell_type": "code",
   "execution_count": 6,
   "metadata": {
    "collapsed": true
   },
   "outputs": [],
   "source": [
    "fandango_before = before[before['Year'] == '2015'].copy()\n",
    "fandango_after = after[after['year']==2016].copy()"
   ]
  },
  {
   "cell_type": "code",
   "execution_count": 7,
   "metadata": {
    "collapsed": false
   },
   "outputs": [
    {
     "name": "stdout",
     "output_type": "stream",
     "text": [
      "2015    129\n",
      "Name: Year, dtype: int64\n",
      "2016    191\n",
      "Name: year, dtype: int64\n"
     ]
    }
   ],
   "source": [
    "print(fandango_before['Year'].value_counts())\n",
    "print(fandango_after['year'].value_counts())"
   ]
  },
  {
   "cell_type": "markdown",
   "metadata": {},
   "source": [
    "## Comparing Distribution Shapes for 2015 and 2016\n",
    "\n",
    "After all these preliminary steps, we can now start analyzing the two samples we isolated before. Once again, our goal is to determine whether there's any difference between Fandango's ratings for popular movies in 2015 and Fandango's ratings for popular movies in 2016.\n",
    "\n",
    "There are many ways we can go about with our analysis, but let's start simple with making a high-level comparison between the shapes of the distributions of movie ratings for both samples.\n",
    "\n",
    "We will generate kernel density plots on the same figure for the distribution of movie ratings of each sample."
   ]
  },
  {
   "cell_type": "code",
   "execution_count": 8,
   "metadata": {
    "collapsed": false
   },
   "outputs": [
    {
     "data": {
      "image/png": "[encoded data removed]",
      "text/plain": [
       "<matplotlib.figure.Figure at 0x7f1e75bce5c0>"
      ]
     },
     "metadata": {},
     "output_type": "display_data"
    }
   ],
   "source": [
    "import matplotlib.pyplot as plt\n",
    "import numpy as np\n",
    "%matplotlib inline\n",
    "\n",
    "plt.style.use('fivethirtyeight')\n",
    "\n",
    "fandango_before['Fandango_Stars'].plot.kde(label = '2015', legend = True, figsize = (8, 5.5))\n",
    "fandango_after['fandango'].plot.kde(label = '2016', legend = True)\n",
    "plt.title(\"Comparing Distributions for Fandango Rating\\n (2015 vs 2016)\", y = 1.07 )\n",
    "plt.xlabel(\"Fandango Rating Stars\")\n",
    "plt.xlim(0,5)\n",
    "plt.xticks(np.arange(0, 5.5, 0.5))\n",
    "plt.show()"
   ]
  },
  {
   "cell_type": "markdown",
   "metadata": {},
   "source": [
    "According to the plots, we can draw two conclusions very clearly:\n",
    "\n",
    "   + Both of the distributions are obviously left skewed.\n",
    "   + The plot for 2016 is lightly shifted to the left compared with the one for 2015.\n",
    "\n",
    "The plots are strongly left skewed, indicating that the marjority of the movies are highly rated on Fandango website. Considering that Fandango sells tickets, this observision is insteresting to explore. However, it is irrelevant with our goal of this project. We won't discuss it further.\n",
    "\n",
    "In the plot for 2015, the most popular ratings occurs around 4.5 stars. And for the plot of 2016, the most frequent ratings are about 4.0 stars, which is a little bit less than the one in 2015. We can see from the graph that there is indeed a change between Fandango's ratings for popular movies in 2015 and popular movies in 2016. The change is that movies in 2016 were rated lower than those in 2015. "
   ]
  },
  {
   "cell_type": "markdown",
   "metadata": {},
   "source": [
    "## Comparing Relative Frequencies\n",
    "\n",
    "While comparing the distributions with the help of the kernel density plots was a great start, we now need to analyze more granular information. Let's examine the frequency distribution tables of the two distributions."
   ]
  },
  {
   "cell_type": "code",
   "execution_count": 9,
   "metadata": {
    "collapsed": false
   },
   "outputs": [
    {
     "data": {
      "text/plain": [
       "3.0    11\n",
       "3.5    23\n",
       "4.0    37\n",
       "4.5    49\n",
       "5.0     9\n",
       "Name: Fandango_Stars, dtype: int64"
      ]
     },
     "execution_count": 9,
     "metadata": {},
     "output_type": "execute_result"
    }
   ],
   "source": [
    "fandango_before['Fandango_Stars'].value_counts().sort_index()"
   ]
  },
  {
   "cell_type": "code",
   "execution_count": 10,
   "metadata": {
    "collapsed": false
   },
   "outputs": [
    {
     "data": {
      "text/plain": [
       "2.5     6\n",
       "3.0    14\n",
       "3.5    46\n",
       "4.0    77\n",
       "4.5    47\n",
       "5.0     1\n",
       "Name: fandango, dtype: int64"
      ]
     },
     "execution_count": 10,
     "metadata": {},
     "output_type": "execute_result"
    }
   ],
   "source": [
    "fandango_after['fandango'].value_counts().sort_index()"
   ]
  },
  {
   "cell_type": "markdown",
   "metadata": {},
   "source": [
    "Since the sample sizes for the two data sets are different, it's not a good choice to compare the two tables using absolute frequencies. We will change to compare relative frequencies. For better readability, we need to choose percentages."
   ]
  },
  {
   "cell_type": "code",
   "execution_count": 12,
   "metadata": {
    "collapsed": false
   },
   "outputs": [
    {
     "data": {
      "text/plain": [
       "3.0     8.527132\n",
       "3.5    17.829457\n",
       "4.0    28.682171\n",
       "4.5    37.984496\n",
       "5.0     6.976744\n",
       "Name: Fandango_Stars, dtype: float64"
      ]
     },
     "execution_count": 12,
     "metadata": {},
     "output_type": "execute_result"
    }
   ],
   "source": [
    "freq_2015 = fandango_before['Fandango_Stars'].value_counts(normalize = True) *100\n",
    "freq_2015.sort_index()"
   ]
  },
  {
   "cell_type": "code",
   "execution_count": 13,
   "metadata": {
    "collapsed": false
   },
   "outputs": [
    {
     "data": {
      "text/plain": [
       "2.5     3.141361\n",
       "3.0     7.329843\n",
       "3.5    24.083770\n",
       "4.0    40.314136\n",
       "4.5    24.607330\n",
       "5.0     0.523560\n",
       "Name: fandango, dtype: float64"
      ]
     },
     "execution_count": 13,
     "metadata": {},
     "output_type": "execute_result"
    }
   ],
   "source": [
    "freq_2016 = fandango_after['fandango'].value_counts(normalize = True) * 100\n",
    "freq_2016.sort_index()"
   ]
  },
  {
   "cell_type": "markdown",
   "metadata": {},
   "source": [
    "Based on the two relative frequency distribution tables, there are only 0.5% of movies were rated with 5 stars in 2016. The number is about 7% in 2015. The percentage for the lower rating, 3.0 stars is 8.5% in 2015. However, the lowest rate in 2016 was 2.5 stars, and there are 10% of movies rated below 3.0 stars in 2016. The percentages for movies rated with 4.5 stars are also reduced in 2016 compared with 2015.\n",
    "\n",
    "However, percentages for movies with 3.5 stars and 4.0 stars are more in 2016 than those in 2015.\n",
    "\n",
    "It is clear that there is difference between the two distributions. However, the direction of the difference is not that obvious just from the tables."
   ]
  },
  {
   "cell_type": "markdown",
   "metadata": {},
   "source": [
    "## Determining the Direction of the Change\n",
    "\n",
    "We confirmed with the two tables before that there is indeed a clear difference between the two distributions. However, the direction of the difference is not as clear as it was on the kernel density plots.\n",
    "\n",
    "We'll take a couple of summary statistics to get a more precise picture about the direction of the difference. We'll take each distribution of movie ratings and compute its mean, median, and mode, and then compare these statistics to determine what they tell about the direction of the difference."
   ]
  },
  {
   "cell_type": "code",
   "execution_count": 22,
   "metadata": {
    "collapsed": false
   },
   "outputs": [
    {
     "name": "stdout",
     "output_type": "stream",
     "text": [
      "mean of 2015: 4.0852713178294575\n",
      "median of 2015: 4.0\n",
      "mode of 2015: 4.5\n"
     ]
    }
   ],
   "source": [
    "mean_2015 = fandango_before['Fandango_Stars'].mean()\n",
    "median_2015 = fandango_before['Fandango_Stars'].median()\n",
    "mode_2015 = fandango_before['Fandango_Stars'].mode()[0]\n",
    "print('mean of 2015:', mean_2015)\n",
    "print('median of 2015:', median_2015)\n",
    "print('mode of 2015:', mode_2015)"
   ]
  },
  {
   "cell_type": "code",
   "execution_count": 19,
   "metadata": {
    "collapsed": false
   },
   "outputs": [
    {
     "name": "stdout",
     "output_type": "stream",
     "text": [
      "mean of 2016: 3.887434554973822\n",
      "median of 2016: 4.0\n",
      "mode of 2016: 4.0\n"
     ]
    }
   ],
   "source": [
    "mean_2016 = fandango_after['fandango'].mean()\n",
    "median_2016 = fandango_after['fandango'].median()\n",
    "mode_2016 = fandango_after['fandango'].mode()[0]\n",
    "print('mean of 2016:', mean_2016)\n",
    "print('median of 2016:', median_2016)\n",
    "print('mode of 2016:', mode_2016)"
   ]
  },
  {
   "cell_type": "markdown",
   "metadata": {},
   "source": [
    "We notice that the medians are the same for the two data sets. The mean of 2016 is slightly less than that of 2015. As for the mode, it is also smaller in 2016 than 2015.\n",
    "\n",
    "Next we will generate a grouped bar plot to show comparatively how the mean, median, and mode varied for 2015 and 2016. "
   ]
  },
  {
   "cell_type": "code",
   "execution_count": 26,
   "metadata": {
    "collapsed": false
   },
   "outputs": [
    {
     "name": "stdout",
     "output_type": "stream",
     "text": [
      "            2015      2016\n",
      "mean    4.085271  3.887435\n",
      "median  4.000000  4.000000\n",
      "mode    4.500000  4.000000\n"
     ]
    }
   ],
   "source": [
    "summary = pd.DataFrame()\n",
    "summary['2015'] = [mean_2015, median_2015, mode_2015]\n",
    "summary['2016'] = [mean_2016, median_2016, mode_2016]\n",
    "summary.index= ['mean', 'median', 'mode']\n",
    "print(summary)"
   ]
  },
  {
   "cell_type": "code",
   "execution_count": 34,
   "metadata": {
    "collapsed": false
   },
   "outputs": [
    {
     "data": {
      "image/png": "[encoded data removed]",
      "text/plain": [
       "<matplotlib.figure.Figure at 0x7f1e26da30f0>"
      ]
     },
     "metadata": {},
     "output_type": "display_data"
    }
   ],
   "source": [
    "plt.style.use('fivethirtyeight')\n",
    "\n",
    "summary['2015'].plot.bar(color = '#0066FF', align = 'center', label = '2015', legend = True, figsize = (8, 5.5), width = 0.3)\n",
    "summary['2016'].plot.bar(color = '#CC0000', align = 'edge', label = '2016', legend = True, rot = 0, width = 0.3)\n",
    "plt.title('Comparing summary statistics of Fandango Ratings\\n (2015 vs 2016)', y = 1.07)\n",
    "plt.ylim(0, 5.5)\n",
    "plt.ylabel('Stars')\n",
    "plt.yticks(np.arange(0.0, 5.1, 0.5))\n",
    "plt.legend(framealpha = 0, loc = 'upper center')\n",
    "plt.show()"
   ]
  },
  {
   "cell_type": "markdown",
   "metadata": {},
   "source": [
    "While the medians are the same for the two data sets, the mode of 2016 is 0.5 smaller than 2015. Together with smaller mean in 2016, we confirm the difference directions we saw from kernel density plots. On average, popular movies released in 2016 were rated slightly lower than popular movies in 2015 on Fandango's website."
   ]
  },
  {
   "cell_type": "markdown",
   "metadata": {},
   "source": [
    "## Conclusion\n",
    "\n",
    "Our analysis showed that there's indeed a slight difference between Fandango's ratings for popular movies in 2015 and Fandango's ratings for popular movies in 2016. We also determined that, on average, popular movies released in 2016 were rated lower on Fandango than popular movies released in 2015.\n",
    "\n",
    "We are not sure about the reason of this change. It is probably because of Hickey's analysis."
   ]
  }
 ],
 "metadata": {
  "kernelspec": {
   "display_name": "Python 3",
   "language": "python",
   "name": "python3"
  },
  "language_info": {
   "codemirror_mode": {
    "name": "ipython",
    "version": 3
   },
   "file_extension": ".py",
   "mimetype": "text/x-python",
   "name": "python",
   "nbconvert_exporter": "python",
   "pygments_lexer": "ipython3",
   "version": "3.4.3"
  }
 },
 "nbformat": 4,
 "nbformat_minor": 2
}
